{
 "cells": [
  {
   "cell_type": "markdown",
   "metadata": {},
   "source": [
    "# Vignette\n",
    "\n",
    "This vignette uses a simplified version of the NJ and VA Gubernatorial elections (from Feltham et al.) to demonstrate the analysis workflow for\n",
    "TSCSMethods.\n",
    "\n",
    "1. Load the packages, data:"
   ]
  },
  {
   "cell_type": "code",
   "execution_count": 1,
   "metadata": {},
   "outputs": [
    {
     "name": "stderr",
     "output_type": "stream",
     "text": [
      "\u001b[32m\u001b[1m  Activating\u001b[22m\u001b[39m project at `~/Library/Mobile Documents/com~apple~CloudDocs/Yale/yale research/COVID19`\n"
     ]
    }
   ],
   "source": [
    "import Pkg\n",
    "\n",
    "Pkg.activate(\".\");\n",
    "# Pkg.add(\"TSCSMethods\"); Pkg.add(\"Dates\")\n",
    "\n",
    "using TSCSMethods, Dates"
   ]
  },
  {
   "cell_type": "code",
   "execution_count": 2,
   "metadata": {},
   "outputs": [
    {
     "data": {
      "text/html": [
       "<div class=\"data-frame\"><p>249,399 rows × 6 columns</p><table class=\"data-frame\"><thead><tr><th></th><th>date</th><th>fips</th><th>pop_dens</th><th>cumul_death_rate</th><th>death_rte</th><th>gub</th></tr><tr><th></th><th title=\"Date\">Date</th><th title=\"Int64\">Int64</th><th title=\"Float64\">Float64</th><th title=\"Float64\">Float64</th><th title=\"Float64\">Float64</th><th title=\"Int64\">Int64</th></tr></thead><tbody><tr><th>1</th><td>2021-10-03</td><td>1001</td><td>92.8599</td><td>27.5362</td><td>0.0</td><td>0</td></tr><tr><th>2</th><td>2021-10-04</td><td>1001</td><td>92.8599</td><td>27.7174</td><td>0.0</td><td>0</td></tr><tr><th>3</th><td>2021-10-05</td><td>1001</td><td>92.8599</td><td>27.7174</td><td>0.0</td><td>0</td></tr><tr><th>4</th><td>2021-10-06</td><td>1001</td><td>92.8599</td><td>27.7174</td><td>0.181159</td><td>0</td></tr><tr><th>5</th><td>2021-10-07</td><td>1001</td><td>92.8599</td><td>27.7174</td><td>0.181159</td><td>0</td></tr><tr><th>6</th><td>2021-10-08</td><td>1001</td><td>92.8599</td><td>27.7174</td><td>0.0</td><td>0</td></tr><tr><th>7</th><td>2021-10-09</td><td>1001</td><td>92.8599</td><td>27.7174</td><td>0.0</td><td>0</td></tr><tr><th>8</th><td>2021-10-10</td><td>1001</td><td>92.8599</td><td>27.7174</td><td>0.0</td><td>0</td></tr><tr><th>9</th><td>2021-10-11</td><td>1001</td><td>92.8599</td><td>27.7174</td><td>0.0</td><td>0</td></tr><tr><th>10</th><td>2021-10-12</td><td>1001</td><td>92.8599</td><td>28.0797</td><td>0.0</td><td>0</td></tr><tr><th>11</th><td>2021-10-13</td><td>1001</td><td>92.8599</td><td>28.0797</td><td>0.181159</td><td>0</td></tr><tr><th>12</th><td>2021-10-14</td><td>1001</td><td>92.8599</td><td>28.0797</td><td>0.181159</td><td>0</td></tr><tr><th>13</th><td>2021-10-15</td><td>1001</td><td>92.8599</td><td>28.0797</td><td>0.0</td><td>0</td></tr><tr><th>14</th><td>2021-10-16</td><td>1001</td><td>92.8599</td><td>28.0797</td><td>0.0</td><td>0</td></tr><tr><th>15</th><td>2021-10-17</td><td>1001</td><td>92.8599</td><td>28.0797</td><td>0.0</td><td>0</td></tr><tr><th>16</th><td>2021-10-18</td><td>1001</td><td>92.8599</td><td>28.0797</td><td>0.0</td><td>0</td></tr><tr><th>17</th><td>2021-10-19</td><td>1001</td><td>92.8599</td><td>28.0797</td><td>0.0</td><td>0</td></tr><tr><th>18</th><td>2021-10-20</td><td>1001</td><td>92.8599</td><td>28.0797</td><td>0.0</td><td>0</td></tr><tr><th>19</th><td>2021-10-21</td><td>1001</td><td>92.8599</td><td>28.0797</td><td>0.0</td><td>0</td></tr><tr><th>20</th><td>2021-10-22</td><td>1001</td><td>92.8599</td><td>28.0797</td><td>0.362319</td><td>0</td></tr><tr><th>21</th><td>2021-10-23</td><td>1001</td><td>92.8599</td><td>28.0797</td><td>0.0</td><td>0</td></tr><tr><th>22</th><td>2021-10-24</td><td>1001</td><td>92.8599</td><td>28.442</td><td>0.0</td><td>0</td></tr><tr><th>23</th><td>2021-10-25</td><td>1001</td><td>92.8599</td><td>28.6232</td><td>0.0</td><td>0</td></tr><tr><th>24</th><td>2021-10-26</td><td>1001</td><td>92.8599</td><td>28.6232</td><td>0.0</td><td>0</td></tr><tr><th>&vellip;</th><td>&vellip;</td><td>&vellip;</td><td>&vellip;</td><td>&vellip;</td><td>&vellip;</td><td>&vellip;</td></tr></tbody></table></div>"
      ],
      "text/latex": [
       "\\begin{tabular}{r|cccccc}\n",
       "\t& date & fips & pop\\_dens & cumul\\_death\\_rate & death\\_rte & gub\\\\\n",
       "\t\\hline\n",
       "\t& Date & Int64 & Float64 & Float64 & Float64 & Int64\\\\\n",
       "\t\\hline\n",
       "\t1 & 2021-10-03 & 1001 & 92.8599 & 27.5362 & 0.0 & 0 \\\\\n",
       "\t2 & 2021-10-04 & 1001 & 92.8599 & 27.7174 & 0.0 & 0 \\\\\n",
       "\t3 & 2021-10-05 & 1001 & 92.8599 & 27.7174 & 0.0 & 0 \\\\\n",
       "\t4 & 2021-10-06 & 1001 & 92.8599 & 27.7174 & 0.181159 & 0 \\\\\n",
       "\t5 & 2021-10-07 & 1001 & 92.8599 & 27.7174 & 0.181159 & 0 \\\\\n",
       "\t6 & 2021-10-08 & 1001 & 92.8599 & 27.7174 & 0.0 & 0 \\\\\n",
       "\t7 & 2021-10-09 & 1001 & 92.8599 & 27.7174 & 0.0 & 0 \\\\\n",
       "\t8 & 2021-10-10 & 1001 & 92.8599 & 27.7174 & 0.0 & 0 \\\\\n",
       "\t9 & 2021-10-11 & 1001 & 92.8599 & 27.7174 & 0.0 & 0 \\\\\n",
       "\t10 & 2021-10-12 & 1001 & 92.8599 & 28.0797 & 0.0 & 0 \\\\\n",
       "\t11 & 2021-10-13 & 1001 & 92.8599 & 28.0797 & 0.181159 & 0 \\\\\n",
       "\t12 & 2021-10-14 & 1001 & 92.8599 & 28.0797 & 0.181159 & 0 \\\\\n",
       "\t13 & 2021-10-15 & 1001 & 92.8599 & 28.0797 & 0.0 & 0 \\\\\n",
       "\t14 & 2021-10-16 & 1001 & 92.8599 & 28.0797 & 0.0 & 0 \\\\\n",
       "\t15 & 2021-10-17 & 1001 & 92.8599 & 28.0797 & 0.0 & 0 \\\\\n",
       "\t16 & 2021-10-18 & 1001 & 92.8599 & 28.0797 & 0.0 & 0 \\\\\n",
       "\t17 & 2021-10-19 & 1001 & 92.8599 & 28.0797 & 0.0 & 0 \\\\\n",
       "\t18 & 2021-10-20 & 1001 & 92.8599 & 28.0797 & 0.0 & 0 \\\\\n",
       "\t19 & 2021-10-21 & 1001 & 92.8599 & 28.0797 & 0.0 & 0 \\\\\n",
       "\t20 & 2021-10-22 & 1001 & 92.8599 & 28.0797 & 0.362319 & 0 \\\\\n",
       "\t21 & 2021-10-23 & 1001 & 92.8599 & 28.0797 & 0.0 & 0 \\\\\n",
       "\t22 & 2021-10-24 & 1001 & 92.8599 & 28.442 & 0.0 & 0 \\\\\n",
       "\t23 & 2021-10-25 & 1001 & 92.8599 & 28.6232 & 0.0 & 0 \\\\\n",
       "\t24 & 2021-10-26 & 1001 & 92.8599 & 28.6232 & 0.0 & 0 \\\\\n",
       "\t$\\dots$ & $\\dots$ & $\\dots$ & $\\dots$ & $\\dots$ & $\\dots$ & $\\dots$ \\\\\n",
       "\\end{tabular}\n"
      ],
      "text/plain": [
       "\u001b[1m249399×6 DataFrame\u001b[0m\n",
       "\u001b[1m    Row \u001b[0m│\u001b[1m date       \u001b[0m\u001b[1m fips  \u001b[0m\u001b[1m pop_dens \u001b[0m\u001b[1m cumul_death_rate \u001b[0m\u001b[1m death_rte \u001b[0m\u001b[1m gub   \u001b[0m\n",
       "\u001b[1m        \u001b[0m│\u001b[90m Date       \u001b[0m\u001b[90m Int64 \u001b[0m\u001b[90m Float64  \u001b[0m\u001b[90m Float64          \u001b[0m\u001b[90m Float64   \u001b[0m\u001b[90m Int64 \u001b[0m\n",
       "────────┼─────────────────────────────────────────────────────────────────\n",
       "      1 │ 2021-10-03   1001  92.8599            27.5362   0.0           0\n",
       "      2 │ 2021-10-04   1001  92.8599            27.7174   0.0           0\n",
       "      3 │ 2021-10-05   1001  92.8599            27.7174   0.0           0\n",
       "      4 │ 2021-10-06   1001  92.8599            27.7174   0.181159      0\n",
       "      5 │ 2021-10-07   1001  92.8599            27.7174   0.181159      0\n",
       "      6 │ 2021-10-08   1001  92.8599            27.7174   0.0           0\n",
       "      7 │ 2021-10-09   1001  92.8599            27.7174   0.0           0\n",
       "      8 │ 2021-10-10   1001  92.8599            27.7174   0.0           0\n",
       "   ⋮    │     ⋮         ⋮       ⋮             ⋮              ⋮        ⋮\n",
       " 249393 │ 2021-12-16  56045   2.96079           22.5352   0.0           0\n",
       " 249394 │ 2021-12-17  56045   2.96079           22.5352   0.0           0\n",
       " 249395 │ 2021-12-18  56045   2.96079           22.5352   0.0           0\n",
       " 249396 │ 2021-12-19  56045   2.96079           22.5352   0.0           0\n",
       " 249397 │ 2021-12-20  56045   2.96079           22.5352   0.0           0\n",
       " 249398 │ 2021-12-21  56045   2.96079           22.5352   0.0           0\n",
       " 249399 │ 2021-12-22  56045   2.96079          NaN        0.0           0\n",
       "\u001b[36m                                                       249384 rows omitted\u001b[0m"
      ]
     },
     "metadata": {},
     "output_type": "display_data"
    }
   ],
   "source": [
    "dat = example_data()"
   ]
  },
  {
   "cell_type": "markdown",
   "metadata": {},
   "source": [
    "Add an integer valued time variable:"
   ]
  },
  {
   "cell_type": "code",
   "execution_count": 3,
   "metadata": {},
   "outputs": [],
   "source": [
    "dat[! ,:day] = Dates.value.(dat.date .- minimum(dat.date));"
   ]
  },
  {
   "cell_type": "markdown",
   "metadata": {},
   "source": [
    "2. Construct the model object, and set the parameters:"
   ]
  },
  {
   "cell_type": "code",
   "execution_count": 4,
   "metadata": {},
   "outputs": [],
   "source": [
    "matching_covariates = [:pop_dens, :cumul_death_rate];\n",
    "timevary = Dict(:pop_dens => false, :cumul_death_rate => true);\n",
    "\n",
    "model = makemodel(\n",
    "  dat, :day, :fips, :gub, :death_rte,\n",
    "  matching_covariates, timevary,\n",
    "  10:20, -30:-1;\n",
    "  title = \"model\",\n",
    "  estimator = \"ATT\"\n",
    ");"
   ]
  },
  {
   "cell_type": "markdown",
   "metadata": {},
   "source": [
    "3. Perform matching:"
   ]
  },
  {
   "cell_type": "code",
   "execution_count": 5,
   "metadata": {},
   "outputs": [],
   "source": [
    "match!(model, dat);"
   ]
  },
  {
   "cell_type": "markdown",
   "metadata": {},
   "source": [
    "3. Perform balancing:"
   ]
  },
  {
   "cell_type": "code",
   "execution_count": 6,
   "metadata": {},
   "outputs": [],
   "source": [
    "balance!(model, dat);"
   ]
  },
  {
   "cell_type": "markdown",
   "metadata": {},
   "source": [
    "4. Estimate the ATTs for the non-refined, non-caliper model:"
   ]
  },
  {
   "cell_type": "code",
   "execution_count": 7,
   "metadata": {},
   "outputs": [],
   "source": [
    "estimate!(model, dat);"
   ]
  },
  {
   "cell_type": "markdown",
   "metadata": {},
   "source": [
    "5. Refine the model to the `refinementnum` (e.g., 5) best matches, and estimate:"
   ]
  },
  {
   "cell_type": "code",
   "execution_count": 16,
   "metadata": {},
   "outputs": [],
   "source": [
    "refinedmodel = refine(\n",
    "  model, dat;\n",
    "  refinementnum = 5,\n",
    "  dobalance = true, doestimate = true\n",
    ");"
   ]
  },
  {
   "cell_type": "markdown",
   "metadata": {},
   "source": [
    "6. Specify an initial caliper:\n",
    "    You may choose to optionally specify a starting set of caliper values before running `autobalance()` which will successively apply calipers according to a simple algorithm, until sufficient balance is obtained on the matching covariates."
   ]
  },
  {
   "cell_type": "code",
   "execution_count": 12,
   "metadata": {},
   "outputs": [
    {
     "data": {
      "text/plain": [
       "Dict{Symbol, Float64} with 1 entry:\n",
       "  :cumul_death_rate => 0.25"
      ]
     },
     "metadata": {},
     "output_type": "display_data"
    }
   ],
   "source": [
    "ibs = Dict(\n",
    "  :cumul_death_rate => 0.25\n",
    ");"
   ]
  },
  {
   "cell_type": "markdown",
   "metadata": {},
   "source": [
    "7. Successively apply calipers to get a refined caliper model with sufficient balance:"
   ]
  },
  {
   "cell_type": "code",
   "execution_count": 13,
   "metadata": {},
   "outputs": [],
   "source": [
    "calmodel, refcalmodel, overall = autobalance(\n",
    "  model, dat;\n",
    "  calmin = 0.08, step = 0.05,\n",
    "  initial_bals = ibs,\n",
    "  dooverall = true\n",
    ");"
   ]
  },
  {
   "cell_type": "markdown",
   "metadata": {},
   "source": [
    "8. Save a record of the model, including the overall mean estimate across $F$:"
   ]
  },
  {
   "cell_type": "code",
   "execution_count": 18,
   "metadata": {},
   "outputs": [],
   "source": [
    "savepath = pwd();\n",
    "\n",
    "recordset = makerecords(\n",
    "  dat, savepath, [model, refinedmodel, calmodel, refcalmodel]\n",
    ")\n",
    "\n",
    "TSCSMethods.save_object(savepath * \"overall_estimate.jld2\", overall)"
   ]
  },
  {
   "cell_type": "markdown",
   "metadata": {},
   "source": [
    "9. Inspect the model results (e.g., for the refined caliper model):"
   ]
  },
  {
   "cell_type": "code",
   "execution_count": 19,
   "metadata": {},
   "outputs": [
    {
     "data": {
      "text/html": [
       "<div class=\"data-frame\"><p>11 rows × 8 columns</p><table class=\"data-frame\"><thead><tr><th></th><th>f</th><th>att</th><th>mean</th><th>2.5%</th><th>50.0%</th><th>97.5%</th><th>treated</th><th>matches</th></tr><tr><th></th><th title=\"Int64\">Int64</th><th title=\"Float64\">Float64</th><th title=\"Float64\">Float64</th><th title=\"Float64\">Float64</th><th title=\"Float64\">Float64</th><th title=\"Float64\">Float64</th><th title=\"Int64\">Int64</th><th title=\"Int64\">Int64</th></tr></thead><tbody><tr><th>1</th><td>10</td><td>-0.154662</td><td>-0.154884</td><td>-0.234006</td><td>-0.153219</td><td>-0.0863879</td><td>145</td><td>705</td></tr><tr><th>2</th><td>11</td><td>-0.153194</td><td>-0.154948</td><td>-0.238823</td><td>-0.154008</td><td>-0.081035</td><td>145</td><td>705</td></tr><tr><th>3</th><td>12</td><td>-0.146457</td><td>-0.147949</td><td>-0.230159</td><td>-0.147754</td><td>-0.0715198</td><td>145</td><td>705</td></tr><tr><th>4</th><td>13</td><td>-0.047049</td><td>-0.0470613</td><td>-0.142212</td><td>-0.0482126</td><td>0.0469865</td><td>145</td><td>705</td></tr><tr><th>5</th><td>14</td><td>-0.151674</td><td>-0.152964</td><td>-0.244166</td><td>-0.152904</td><td>-0.0716866</td><td>145</td><td>705</td></tr><tr><th>6</th><td>15</td><td>-0.17604</td><td>-0.178863</td><td>-0.266755</td><td>-0.177122</td><td>-0.100019</td><td>145</td><td>705</td></tr><tr><th>7</th><td>16</td><td>-0.143117</td><td>-0.144497</td><td>-0.22003</td><td>-0.143469</td><td>-0.0778145</td><td>145</td><td>705</td></tr><tr><th>8</th><td>17</td><td>-0.187231</td><td>-0.18888</td><td>-0.272821</td><td>-0.187667</td><td>-0.113924</td><td>145</td><td>705</td></tr><tr><th>9</th><td>18</td><td>-0.148982</td><td>-0.150535</td><td>-0.235312</td><td>-0.149395</td><td>-0.0776914</td><td>145</td><td>705</td></tr><tr><th>10</th><td>19</td><td>-0.144713</td><td>-0.146215</td><td>-0.228582</td><td>-0.145906</td><td>-0.0717446</td><td>145</td><td>705</td></tr><tr><th>11</th><td>20</td><td>-0.106578</td><td>-0.107892</td><td>-0.205027</td><td>-0.107683</td><td>-0.0291714</td><td>145</td><td>705</td></tr></tbody></table></div>"
      ],
      "text/latex": [
       "\\begin{tabular}{r|cccccccc}\n",
       "\t& f & att & mean & 2.5\\% & 50.0\\% & 97.5\\% & treated & matches\\\\\n",
       "\t\\hline\n",
       "\t& Int64 & Float64 & Float64 & Float64 & Float64 & Float64 & Int64 & Int64\\\\\n",
       "\t\\hline\n",
       "\t1 & 10 & -0.154662 & -0.154884 & -0.234006 & -0.153219 & -0.0863879 & 145 & 705 \\\\\n",
       "\t2 & 11 & -0.153194 & -0.154948 & -0.238823 & -0.154008 & -0.081035 & 145 & 705 \\\\\n",
       "\t3 & 12 & -0.146457 & -0.147949 & -0.230159 & -0.147754 & -0.0715198 & 145 & 705 \\\\\n",
       "\t4 & 13 & -0.047049 & -0.0470613 & -0.142212 & -0.0482126 & 0.0469865 & 145 & 705 \\\\\n",
       "\t5 & 14 & -0.151674 & -0.152964 & -0.244166 & -0.152904 & -0.0716866 & 145 & 705 \\\\\n",
       "\t6 & 15 & -0.17604 & -0.178863 & -0.266755 & -0.177122 & -0.100019 & 145 & 705 \\\\\n",
       "\t7 & 16 & -0.143117 & -0.144497 & -0.22003 & -0.143469 & -0.0778145 & 145 & 705 \\\\\n",
       "\t8 & 17 & -0.187231 & -0.18888 & -0.272821 & -0.187667 & -0.113924 & 145 & 705 \\\\\n",
       "\t9 & 18 & -0.148982 & -0.150535 & -0.235312 & -0.149395 & -0.0776914 & 145 & 705 \\\\\n",
       "\t10 & 19 & -0.144713 & -0.146215 & -0.228582 & -0.145906 & -0.0717446 & 145 & 705 \\\\\n",
       "\t11 & 20 & -0.106578 & -0.107892 & -0.205027 & -0.107683 & -0.0291714 & 145 & 705 \\\\\n",
       "\\end{tabular}\n"
      ],
      "text/plain": [
       "\u001b[1m11×8 DataFrame\u001b[0m\n",
       "\u001b[1m Row \u001b[0m│\u001b[1m f     \u001b[0m\u001b[1m att       \u001b[0m\u001b[1m mean       \u001b[0m\u001b[1m 2.5%      \u001b[0m\u001b[1m 50.0%      \u001b[0m\u001b[1m 97.5%      \u001b[0m\u001b[1m treate\u001b[0m ⋯\n",
       "\u001b[1m     \u001b[0m│\u001b[90m Int64 \u001b[0m\u001b[90m Float64   \u001b[0m\u001b[90m Float64    \u001b[0m\u001b[90m Float64   \u001b[0m\u001b[90m Float64    \u001b[0m\u001b[90m Float64    \u001b[0m\u001b[90m Int64 \u001b[0m ⋯\n",
       "─────┼──────────────────────────────────────────────────────────────────────────\n",
       "   1 │    10  -0.154662  -0.154884   -0.234006  -0.153219   -0.0863879      14 ⋯\n",
       "   2 │    11  -0.153194  -0.154948   -0.238823  -0.154008   -0.081035       14\n",
       "   3 │    12  -0.146457  -0.147949   -0.230159  -0.147754   -0.0715198      14\n",
       "   4 │    13  -0.047049  -0.0470613  -0.142212  -0.0482126   0.0469865      14\n",
       "   5 │    14  -0.151674  -0.152964   -0.244166  -0.152904   -0.0716866      14 ⋯\n",
       "   6 │    15  -0.17604   -0.178863   -0.266755  -0.177122   -0.100019       14\n",
       "   7 │    16  -0.143117  -0.144497   -0.22003   -0.143469   -0.0778145      14\n",
       "   8 │    17  -0.187231  -0.18888    -0.272821  -0.187667   -0.113924       14\n",
       "   9 │    18  -0.148982  -0.150535   -0.235312  -0.149395   -0.0776914      14 ⋯\n",
       "  10 │    19  -0.144713  -0.146215   -0.228582  -0.145906   -0.0717446      14\n",
       "  11 │    20  -0.106578  -0.107892   -0.205027  -0.107683   -0.0291714      14\n",
       "\u001b[36m                                                               2 columns omitted\u001b[0m"
      ]
     },
     "metadata": {},
     "output_type": "display_data"
    }
   ],
   "source": [
    "refcalmodel.results"
   ]
  }
 ],
 "metadata": {
  "kernelspec": {
   "display_name": "Julia 1.7.1",
   "language": "julia",
   "name": "julia-1.7"
  },
  "language_info": {
   "file_extension": ".jl",
   "mimetype": "application/julia",
   "name": "julia",
   "version": "1.7.1"
  },
  "orig_nbformat": 4
 },
 "nbformat": 4,
 "nbformat_minor": 2
}
